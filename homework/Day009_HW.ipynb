{
 "cells": [
  {
   "cell_type": "markdown",
   "metadata": {},
   "source": [
    "# 作業\n",
    "\n",
    "以正確的副檔名下載網頁中的圖片\n",
    "範例網頁:https://www.ptt.cc/bbs/Beauty/M.1556291059.A.75A.html\n",
    "\n",
    "Note：因為 PTT 會詢問「是否滿 18 歲」，這邊可以用 cookies 繞過\n",
    "\n",
    "`requests.get(URL, cookies={'over18': '1'}`\n"
   ]
  },
  {
   "cell_type": "code",
   "execution_count": 1,
   "metadata": {},
   "outputs": [],
   "source": [
    "import requests\n",
    "import os\n",
    "\n",
    "from bs4 import BeautifulSoup\n",
    "from PIL import Image"
   ]
  },
  {
   "cell_type": "code",
   "execution_count": 2,
   "metadata": {},
   "outputs": [],
   "source": [
    "url = 'https://www.ptt.cc/bbs/Beauty/M.1556291059.A.75A.html'\n",
    "resp = requests.get(url, cookies={'over18': '1'})\n",
    "soup = BeautifulSoup(resp.text)"
   ]
  },
  {
   "cell_type": "code",
   "execution_count": 3,
   "metadata": {},
   "outputs": [
    {
     "name": "stdout",
     "output_type": "stream",
     "text": [
      "<a href=\"https://imgur.com/Cgb5oo1\" rel=\"nofollow\" target=\"_blank\">https://imgur.com/Cgb5oo1</a>\n",
      "<a href=\"https://imgur.com/MgjHY4f\" rel=\"nofollow\" target=\"_blank\">https://imgur.com/MgjHY4f</a>\n",
      "<a href=\"https://imgur.com/yeoRtAs\" rel=\"nofollow\" target=\"_blank\">https://imgur.com/yeoRtAs</a>\n",
      "<a href=\"https://imgur.com/wsauNEW\" rel=\"nofollow\" target=\"_blank\">https://imgur.com/wsauNEW</a>\n",
      "<a href=\"https://imgur.com/IjiETcs\" rel=\"nofollow\" target=\"_blank\">https://imgur.com/IjiETcs</a>\n",
      "None\n",
      "<PIL.JpegImagePlugin.JpegImageFile image mode=RGB size=1920x1185 at 0x1F77988B9E8>\n",
      "downloads/Cgb5oo1.jpeg\n",
      "Save image downloads/Cgb5oo1.jpeg\n",
      "----------------------\n",
      "None\n",
      "<PIL.JpegImagePlugin.JpegImageFile image mode=RGB size=454x640 at 0x1F77988C9B0>\n",
      "downloads/MgjHY4f.jpeg\n",
      "Save image downloads/MgjHY4f.jpeg\n",
      "----------------------\n",
      "None\n",
      "<PIL.JpegImagePlugin.JpegImageFile image mode=RGB size=800x533 at 0x1F779907438>\n",
      "downloads/yeoRtAs.jpeg\n",
      "Save image downloads/yeoRtAs.jpeg\n",
      "----------------------\n",
      "None\n",
      "<PIL.JpegImagePlugin.JpegImageFile image mode=RGB size=1440x810 at 0x1F77988BA58>\n",
      "downloads/wsauNEW.jpeg\n",
      "Save image downloads/wsauNEW.jpeg\n",
      "----------------------\n",
      "None\n",
      "<PIL.JpegImagePlugin.JpegImageFile image mode=RGB size=1470x1102 at 0x1F7798FCD68>\n",
      "downloads/IjiETcs.jpeg\n",
      "Save image downloads/IjiETcs.jpeg\n",
      "----------------------\n"
     ]
    }
   ],
   "source": [
    "# 決定要儲存的資料夾\n",
    "output_dir = 'downloads'\n",
    "\n",
    "# 假如資料夾不存在就新增一個資料夾\n",
    "if not os.path.exists(output_dir):\n",
    "    os.makedirs(output_dir)\n",
    "\n",
    "# 定位所有圖片的 tag\n",
    "image_tags = soup.find(id='main-content').findChildren('a', recursive=False) #列出 main-content 下面 a\n",
    "print(\"\\n\".join(str(i) for i in image_tags)) #=測試=\n",
    "\n",
    "for img_tag in image_tags:\n",
    "    # 取得所有圖片在第三方服務的 id\n",
    "    if 'imgur' not in img_tag['href']:\n",
    "        continue \n",
    "    img_id = img_tag['href'].split('/')[-1] #切img_tag['href'] 取最後一筆    \n",
    "\n",
    "    # 組合圖片而非網站的網址\n",
    "    img_url = 'https://i.imgur.com/{}.jpg'.format(img_id)\n",
    "    \n",
    "\n",
    "    # 對圖片送出請求\n",
    "    with requests.get(img_url, stream=True) as r: \n",
    "        r.raise_for_status() \n",
    "        print(r.raise_for_status())  #=測試=\n",
    "        \n",
    "        #檢查圖片副檔名,PIL的Image\n",
    "        img = Image.open(r.raw) \n",
    "        print(img) #=測試=\n",
    "        img_savename = '{outdir}/{img_id}.{img_ext}'.format(outdir=output_dir, img_id=img_id, img_ext=img.format.lower()) \n",
    "        print(img_savename) #=測試=\n",
    "        img.save(img_savename)\n",
    "        print('Save image {}'.format(img_savename))\n",
    "        print(\"----------------------\") # =測試=    \n",
    "    "
   ]
  }
 ],
 "metadata": {
  "kernelspec": {
   "display_name": "Python 3",
   "language": "python",
   "name": "python3"
  },
  "language_info": {
   "codemirror_mode": {
    "name": "ipython",
    "version": 3
   },
   "file_extension": ".py",
   "mimetype": "text/x-python",
   "name": "python",
   "nbconvert_exporter": "python",
   "pygments_lexer": "ipython3",
   "version": "3.7.3"
  }
 },
 "nbformat": 4,
 "nbformat_minor": 4
}
