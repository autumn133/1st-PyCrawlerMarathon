{
 "cells": [
  {
   "cell_type": "markdown",
   "metadata": {},
   "source": [
    "# 反爬：驗證碼處理\n",
    "\n",
    "* 了解「驗證碼機制」的反爬蟲機制\n",
    "* 「驗證碼機制」反爬蟲的因應策略\n"
   ]
  },
  {
   "cell_type": "markdown",
   "metadata": {},
   "source": [
    "## 作業目標\n",
    "\n",
    "* 讀讀看「test」資料夾下的圖檔！\n",
    "* 像 test/test2.png 這種複雜的圖片怎麼辦？\n"
   ]
  },
  {
   "cell_type": "markdown",
   "metadata": {},
   "source": [
    "### 讀讀看「test」資料夾下的圖檔！"
   ]
  },
  {
   "cell_type": "code",
   "execution_count": null,
   "metadata": {},
   "outputs": [
    {
     "name": "stdout",
     "output_type": "stream",
     "text": [
      "Requirement already satisfied: pytesseract in c:\\users\\au\\anaconda3\\envs\\spider\\lib\\site-packages (0.3.2)\n",
      "Requirement already satisfied: Pillow in c:\\users\\au\\anaconda3\\envs\\spider\\lib\\site-packages (from pytesseract) (6.2.1)\n"
     ]
    }
   ],
   "source": [
    "#https://github.com/ChenKuanHua/1st-PyCrawlerMarathon/blob/master/homework/Day032_HW.ipynb\n",
    "#安裝\n",
    "!pip install pytesseract \n",
    "!pip install opencv-python"
   ]
  },
  {
   "cell_type": "code",
   "execution_count": 2,
   "metadata": {},
   "outputs": [],
   "source": [
    "import requests\n",
    "import pytesseract\n",
    "from PIL import Image \n",
    "from io import BytesIO ## StringIO和BytesIO是在内存中操作str和bytes的方法"
   ]
  },
  {
   "cell_type": "code",
   "execution_count": 2,
   "metadata": {},
   "outputs": [
    {
     "name": "stdout",
     "output_type": "stream",
     "text": [
      "619121\n"
     ]
    }
   ],
   "source": [
    "'''\n",
    "Your Code\n",
    "'''\n",
    "img = Image.open(\"D32：反爬：驗證碼處理_圖1_test1.png\")\n",
    "# img = Image.open(\"test/test1.png\")\n",
    "\n",
    "# 要先指定Tesseract-OCR路徑才可以成功\n",
    "pytesseract.pytesseract.tesseract_cmd = 'C:\\\\Program Files (x86)\\\\Tesseract-OCR\\\\tesseract.exe'\n",
    "# pytesseract.pytesseract.tesseract_cmd = 'C:\\\\Program Files\\\\Tesseract-OCR\\\\tesseract.exe'\n",
    "\n",
    "# 用pytesseract解析\n",
    "code = pytesseract.image_to_string(img)\n",
    "print(code)"
   ]
  },
  {
   "cell_type": "markdown",
   "metadata": {},
   "source": [
    "### 像 test/test2.png 這種複雜的圖片怎麼辦？"
   ]
  },
  {
   "cell_type": "code",
   "execution_count": 4,
   "metadata": {},
   "outputs": [
    {
     "data": {
      "image/png": "[encoded data removed]",
      "text/plain": [
       "<PIL.Image.Image image mode=L size=154x64 at 0x198A5DA7780>"
      ]
     },
     "execution_count": 4,
     "metadata": {},
     "output_type": "execute_result"
    }
   ],
   "source": [
    "img = Image.open(\"D32：反爬：驗證碼處理_圖2_test2.png\").convert(\"L\")\n",
    "# img = Image.open(\"test/test2.png\").convert(\"L\")\n",
    "img\n",
    "\n",
    "# 轉換圖片色彩模式有：1，L，P，RGB，RGBA，CMYK，YCbCr，I，F。這個網站有詳細範例\n",
    "# https://blog.csdn.net/icamera0/article/details/50843172\n",
    "# 模式“1”为二值图像，非黑即白。但是它每个像素用8个bit表示，0表示黑，255表示白。下面我们将lena图像转换为“1”图像\n",
    "# 模式“L”为灰色图像，它的每个像素用8个bit表示，0表示黑，255表示白，其他数字表示不同的灰度。在PIL中，从模式“RGB”转换为“L”模式是按照下面的公式转换的：L = R 299/1000 + G 587/1000+ B * 114/1000\n",
    "# 模式“P”为8位彩色图像，它的每个像素用8个bit表示，其对应的彩色值是按照调色板查询出来的。"
   ]
  },
  {
   "cell_type": "code",
   "execution_count": 5,
   "metadata": {},
   "outputs": [
    {
     "data": {
      "image/png": "[encoded data removed]",
      "text/plain": [
       "<PIL.Image.Image image mode=L size=154x64 at 0x198A5DA7780>"
      ]
     },
     "execution_count": 5,
     "metadata": {},
     "output_type": "execute_result"
    }
   ],
   "source": [
    "'''\n",
    "Your Code\n",
    "'''\n",
    "pixels = img.load()\n",
    "standard=127.5\n",
    "for x in range(img.width):\n",
    "    for y in range(img.height):\n",
    "        if pixels[x, y] > standard:\n",
    "            pixels[x, y] = 255\n",
    "        else:\n",
    "            pixels[x, y] = 0\n",
    "img"
   ]
  },
  {
   "cell_type": "code",
   "execution_count": 6,
   "metadata": {},
   "outputs": [
    {
     "name": "stdout",
     "output_type": "stream",
     "text": [
      "1413\n"
     ]
    }
   ],
   "source": [
    "code = pytesseract.image_to_string(img)\n",
    "print(code)"
   ]
  },
  {
   "cell_type": "code",
   "execution_count": 3,
   "metadata": {},
   "outputs": [
    {
     "data": {
      "image/png": "[encoded data removed]",
      "text/plain": [
       "<PIL.PngImagePlugin.PngImageFile image mode=RGB size=159x32 at 0x22BFD72CF98>"
      ]
     },
     "execution_count": 3,
     "metadata": {},
     "output_type": "execute_result"
    }
   ],
   "source": [
    "import urllib\n",
    "from PIL import Image \n",
    "# 這個驗證碼的網址，每一次連都抓到不一樣的圖案 @_@\n",
    "firstbank_imgurl = 'https://ebank.firstbank.com.tw/PTLB2C/CaptchaServlet?regen=Y&timestamp=1578634525841'\n",
    "\n",
    "#不能用中文路徑\n",
    "img = urllib.request.urlretrieve(firstbank_imgurl, './D32_Data/imgtest.png')\n",
    "# Img = urllib.request.urlretrieve(firstbank_imgurl, '../D32_反爬_驗證碼處理Data/imgtest.png')\n",
    "img = Image.open('./D32_Data/imgtest.png')\n",
    "# Img = Image.open('../D32_反爬_驗證碼處理Data/imgtest.png')\n",
    "img"
   ]
  },
  {
   "cell_type": "code",
   "execution_count": 5,
   "metadata": {},
   "outputs": [
    {
     "data": {
      "text/plain": [
       "''"
      ]
     },
     "execution_count": 5,
     "metadata": {},
     "output_type": "execute_result"
    }
   ],
   "source": [
    "pytesseract.pytesseract.tesseract_cmd = 'C:\\\\Program Files (x86)\\\\Tesseract-OCR\\\\tesseract.exe'\n",
    "parseImg = pytesseract.image_to_string(img)\n",
    "parseImg"
   ]
  },
  {
   "cell_type": "code",
   "execution_count": 8,
   "metadata": {},
   "outputs": [
    {
     "data": {
      "image/png": "[encoded data removed]",
      "text/plain": [
       "<PIL.PngImagePlugin.PngImageFile image mode=RGB size=159x32 at 0x22BFD72CF98>"
      ]
     },
     "execution_count": 8,
     "metadata": {},
     "output_type": "execute_result"
    }
   ],
   "source": [
    "img"
   ]
  },
  {
   "cell_type": "code",
   "execution_count": 9,
   "metadata": {},
   "outputs": [
    {
     "data": {
      "text/plain": [
       "<PixelAccess at 0x22b82a15d10>"
      ]
     },
     "execution_count": 9,
     "metadata": {},
     "output_type": "execute_result"
    }
   ],
   "source": [
    "pixdata = img.load()  #<PixelAccess at 0x2bdfc313f90>\n",
    "pixdata"
   ]
  },
  {
   "cell_type": "code",
   "execution_count": 13,
   "metadata": {},
   "outputs": [
    {
     "ename": "TypeError",
     "evalue": "'<' not supported between instances of 'tuple' and 'int'",
     "output_type": "error",
     "traceback": [
      "\u001b[1;31m---------------------------------------------------------------------------\u001b[0m",
      "\u001b[1;31mTypeError\u001b[0m                                 Traceback (most recent call last)",
      "\u001b[1;32m<ipython-input-13-1a67394a4907>\u001b[0m in \u001b[0;36m<module>\u001b[1;34m\u001b[0m\n\u001b[0;32m      2\u001b[0m \u001b[1;32mfor\u001b[0m \u001b[0my\u001b[0m \u001b[1;32min\u001b[0m \u001b[0mrange\u001b[0m\u001b[1;33m(\u001b[0m\u001b[0mh\u001b[0m\u001b[1;33m)\u001b[0m\u001b[1;33m:\u001b[0m\u001b[1;33m\u001b[0m\u001b[1;33m\u001b[0m\u001b[0m\n\u001b[0;32m      3\u001b[0m     \u001b[1;32mfor\u001b[0m \u001b[0mx\u001b[0m \u001b[1;32min\u001b[0m \u001b[0mrange\u001b[0m\u001b[1;33m(\u001b[0m\u001b[0mw\u001b[0m\u001b[1;33m)\u001b[0m\u001b[1;33m:\u001b[0m\u001b[1;33m\u001b[0m\u001b[1;33m\u001b[0m\u001b[0m\n\u001b[1;32m----> 4\u001b[1;33m         \u001b[1;32mif\u001b[0m \u001b[0mpixdata\u001b[0m\u001b[1;33m[\u001b[0m\u001b[0mx\u001b[0m\u001b[1;33m,\u001b[0m\u001b[0my\u001b[0m\u001b[1;33m]\u001b[0m \u001b[1;33m<\u001b[0m \u001b[1;36m180\u001b[0m\u001b[1;33m:\u001b[0m\u001b[1;33m\u001b[0m\u001b[1;33m\u001b[0m\u001b[0m\n\u001b[0m\u001b[0;32m      5\u001b[0m             \u001b[0mpixdata\u001b[0m\u001b[1;33m[\u001b[0m\u001b[0mx\u001b[0m\u001b[1;33m,\u001b[0m\u001b[0my\u001b[0m\u001b[1;33m]\u001b[0m \u001b[1;33m=\u001b[0m \u001b[1;36m0\u001b[0m\u001b[1;33m\u001b[0m\u001b[1;33m\u001b[0m\u001b[0m\n\u001b[0;32m      6\u001b[0m         \u001b[1;32melse\u001b[0m\u001b[1;33m:\u001b[0m\u001b[1;33m\u001b[0m\u001b[1;33m\u001b[0m\u001b[0m\n",
      "\u001b[1;31mTypeError\u001b[0m: '<' not supported between instances of 'tuple' and 'int'"
     ]
    }
   ],
   "source": [
    "w ,h = img.size\n",
    "for y in range(h):\n",
    "    for x in range(w):\n",
    "        if pixdata[x,y] < 180:\n",
    "            pixdata[x,y] = 0\n",
    "        else:\n",
    "            pixdata[x,y] = 255\n",
    "Img\n",
    "#=========\n",
    "# pixels = img.load()\n",
    "# standard=127.5\n",
    "# for x in range(img.width):\n",
    "#     for y in range(img.height):\n",
    "#         if pixels[x, y] > standard:\n",
    "#             pixels[x, y] = 255\n",
    "#         else:\n",
    "#             pixels[x, y] = 0\n",
    "# img"
   ]
  },
  {
   "cell_type": "code",
   "execution_count": 11,
   "metadata": {},
   "outputs": [
    {
     "ename": "TypeError",
     "evalue": "'>' not supported between instances of 'tuple' and 'int'",
     "output_type": "error",
     "traceback": [
      "\u001b[1;31m---------------------------------------------------------------------------\u001b[0m",
      "\u001b[1;31mTypeError\u001b[0m                                 Traceback (most recent call last)",
      "\u001b[1;32m<ipython-input-11-7466dc072074>\u001b[0m in \u001b[0;36m<module>\u001b[1;34m\u001b[0m\n\u001b[0;32m      6\u001b[0m     \u001b[1;32mfor\u001b[0m \u001b[0mx\u001b[0m \u001b[1;32min\u001b[0m \u001b[0mrange\u001b[0m\u001b[1;33m(\u001b[0m\u001b[1;36m1\u001b[0m\u001b[1;33m,\u001b[0m\u001b[0mw\u001b[0m\u001b[1;33m-\u001b[0m\u001b[1;36m1\u001b[0m\u001b[1;33m)\u001b[0m\u001b[1;33m:\u001b[0m\u001b[1;33m\u001b[0m\u001b[1;33m\u001b[0m\u001b[0m\n\u001b[0;32m      7\u001b[0m         \u001b[0mcount\u001b[0m \u001b[1;33m=\u001b[0m \u001b[1;36m0\u001b[0m\u001b[1;33m\u001b[0m\u001b[1;33m\u001b[0m\u001b[0m\n\u001b[1;32m----> 8\u001b[1;33m         \u001b[1;32mif\u001b[0m \u001b[0mpixdata\u001b[0m\u001b[1;33m[\u001b[0m\u001b[0mx\u001b[0m\u001b[1;33m,\u001b[0m\u001b[0my\u001b[0m\u001b[1;33m-\u001b[0m\u001b[1;36m1\u001b[0m\u001b[1;33m]\u001b[0m \u001b[1;33m>\u001b[0m \u001b[1;36m245\u001b[0m\u001b[1;33m:\u001b[0m\u001b[1;31m#上\u001b[0m\u001b[1;33m\u001b[0m\u001b[1;33m\u001b[0m\u001b[0m\n\u001b[0m\u001b[0;32m      9\u001b[0m             \u001b[0mcount\u001b[0m \u001b[1;33m=\u001b[0m \u001b[0mcount\u001b[0m \u001b[1;33m+\u001b[0m \u001b[1;36m1\u001b[0m\u001b[1;33m\u001b[0m\u001b[1;33m\u001b[0m\u001b[0m\n\u001b[0;32m     10\u001b[0m         \u001b[1;32mif\u001b[0m \u001b[0mpixdata\u001b[0m\u001b[1;33m[\u001b[0m\u001b[0mx\u001b[0m\u001b[1;33m,\u001b[0m\u001b[0my\u001b[0m\u001b[1;33m+\u001b[0m\u001b[1;36m1\u001b[0m\u001b[1;33m]\u001b[0m \u001b[1;33m>\u001b[0m \u001b[1;36m245\u001b[0m\u001b[1;33m:\u001b[0m\u001b[1;31m#下\u001b[0m\u001b[1;33m\u001b[0m\u001b[1;33m\u001b[0m\u001b[0m\n",
      "\u001b[1;31mTypeError\u001b[0m: '>' not supported between instances of 'tuple' and 'int'"
     ]
    }
   ],
   "source": [
    "# 對二值化圖片降噪\n",
    "pixdata = img.load()\n",
    "w,h = img.size\n",
    "# 8鄰域演算法\n",
    "for y in range(1,h-1):\n",
    "    for x in range(1,w-1):\n",
    "        count = 0\n",
    "        if pixdata[x,y-1] > 245:#上\n",
    "            count = count + 1\n",
    "        if pixdata[x,y+1] > 245:#下\n",
    "            count = count + 1\n",
    "        if pixdata[x-1,y] > 245:#左\n",
    "            count = count + 1\n",
    "        if pixdata[x+1,y] > 245:#右\n",
    "            count = count + 1\n",
    "        if pixdata[x-1,y-1] > 245:#左上\n",
    "            count = count + 1\n",
    "        if pixdata[x-1,y+1] > 245:#左下\n",
    "            count = count + 1\n",
    "        if pixdata[x+1,y-1] > 245:#右上\n",
    "            count = count + 1\n",
    "        if pixdata[x+1,y+1] > 245:#右下\n",
    "            count = count + 1\n",
    "        if count > 4:\n",
    "            pixdata[x,y] = 255\n",
    "\n",
    "img"
   ]
  },
  {
   "cell_type": "code",
   "execution_count": 7,
   "metadata": {},
   "outputs": [],
   "source": [
    "import cv2\n",
    "import matplotlib.pyplot as plt"
   ]
  },
  {
   "cell_type": "code",
   "execution_count": 14,
   "metadata": {},
   "outputs": [
    {
     "data": {
      "text/plain": [
       "'4.2.0'"
      ]
     },
     "execution_count": 14,
     "metadata": {},
     "output_type": "execute_result"
    }
   ],
   "source": [
    "cv2.__version__"
   ]
  },
  {
   "cell_type": "code",
   "execution_count": 15,
   "metadata": {},
   "outputs": [
    {
     "data": {
      "text/plain": [
       "array([[[206, 216, 172],\n",
       "        [206, 216, 172],\n",
       "        [206, 216, 172],\n",
       "        ...,\n",
       "        [252, 252, 250],\n",
       "        [252, 252, 250],\n",
       "        [252, 253, 251]],\n",
       "\n",
       "       [[206, 216, 172],\n",
       "        [206, 216, 172],\n",
       "        [206, 216, 172],\n",
       "        ...,\n",
       "        [252, 252, 250],\n",
       "        [252, 253, 250],\n",
       "        [252, 253, 251]],\n",
       "\n",
       "       [[206, 216, 172],\n",
       "        [206, 216, 172],\n",
       "        [206, 216, 172],\n",
       "        ...,\n",
       "        [252, 252, 250],\n",
       "        [252, 253, 250],\n",
       "        [252, 253, 251]],\n",
       "\n",
       "       ...,\n",
       "\n",
       "       [[207, 217, 174],\n",
       "        [207, 217, 175],\n",
       "        [208, 217, 175],\n",
       "        ...,\n",
       "        [253, 254, 253],\n",
       "        [254, 254, 253],\n",
       "        [254, 254, 254]],\n",
       "\n",
       "       [[207, 217, 174],\n",
       "        [207, 217, 175],\n",
       "        [208, 217, 175],\n",
       "        ...,\n",
       "        [253, 254, 253],\n",
       "        [254, 254, 253],\n",
       "        [254, 254, 254]],\n",
       "\n",
       "       [[207, 217, 174],\n",
       "        [208, 217, 175],\n",
       "        [208, 217, 175],\n",
       "        ...,\n",
       "        [254, 254, 253],\n",
       "        [254, 254, 253],\n",
       "        [254, 254, 254]]], dtype=uint8)"
      ]
     },
     "execution_count": 15,
     "metadata": {},
     "output_type": "execute_result"
    }
   ],
   "source": [
    "img = cv2.imread('./D32_Data/imgtest.png')\n",
    "img"
   ]
  },
  {
   "cell_type": "code",
   "execution_count": 16,
   "metadata": {},
   "outputs": [
    {
     "data": {
      "text/plain": [
       "array([[[206, 216, 174],\n",
       "        [206, 216, 174],\n",
       "        [206, 216, 174],\n",
       "        ...,\n",
       "        [252, 253, 247],\n",
       "        [252, 253, 247],\n",
       "        [252, 253, 247]],\n",
       "\n",
       "       [[206, 216, 174],\n",
       "        [206, 216, 174],\n",
       "        [206, 216, 174],\n",
       "        ...,\n",
       "        [252, 253, 247],\n",
       "        [252, 253, 247],\n",
       "        [252, 253, 247]],\n",
       "\n",
       "       [[206, 216, 174],\n",
       "        [206, 216, 174],\n",
       "        [206, 216, 174],\n",
       "        ...,\n",
       "        [252, 253, 247],\n",
       "        [252, 253, 247],\n",
       "        [252, 253, 247]],\n",
       "\n",
       "       ...,\n",
       "\n",
       "       [[208, 218, 176],\n",
       "        [208, 218, 176],\n",
       "        [208, 218, 176],\n",
       "        ...,\n",
       "        [252, 252, 252],\n",
       "        [252, 252, 252],\n",
       "        [252, 252, 252]],\n",
       "\n",
       "       [[208, 218, 176],\n",
       "        [208, 218, 176],\n",
       "        [208, 218, 176],\n",
       "        ...,\n",
       "        [252, 252, 252],\n",
       "        [252, 252, 252],\n",
       "        [252, 252, 252]],\n",
       "\n",
       "       [[208, 218, 176],\n",
       "        [208, 218, 176],\n",
       "        [208, 218, 176],\n",
       "        ...,\n",
       "        [252, 252, 252],\n",
       "        [252, 252, 252],\n",
       "        [252, 252, 252]]], dtype=uint8)"
      ]
     },
     "execution_count": 16,
     "metadata": {},
     "output_type": "execute_result"
    }
   ],
   "source": [
    "dst = cv2.fastNlMeansDenoisingColored(img, None, 30, 30, 7, 21)\n",
    "dst"
   ]
  },
  {
   "cell_type": "code",
   "execution_count": 17,
   "metadata": {},
   "outputs": [
    {
     "data": {
      "text/plain": [
       "<matplotlib.image.AxesImage at 0x22b84eaf0b8>"
      ]
     },
     "execution_count": 17,
     "metadata": {},
     "output_type": "execute_result"
    },
    {
     "data": {
      "image/png": "[encoded data removed]",
      "text/plain": [
       "<Figure size 432x288 with 2 Axes>"
      ]
     },
     "metadata": {
      "needs_background": "light"
     },
     "output_type": "display_data"
    }
   ],
   "source": [
    "plt.subplot(121)\n",
    "plt.imshow(img)\n",
    "plt.subplot(122)\n",
    "plt.imshow(dst)"
   ]
  }
 ],
 "metadata": {
  "kernelspec": {
   "display_name": "spider",
   "language": "python",
   "name": "spider"
  },
  "language_info": {
   "codemirror_mode": {
    "name": "ipython",
    "version": 3
   },
   "file_extension": ".py",
   "mimetype": "text/x-python",
   "name": "python",
   "nbconvert_exporter": "python",
   "pygments_lexer": "ipython3",
   "version": "3.6.9"
  }
 },
 "nbformat": 4,
 "nbformat_minor": 4
}
