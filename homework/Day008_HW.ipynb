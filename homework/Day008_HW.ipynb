{
 "cells": [
  {
   "cell_type": "markdown",
   "metadata": {},
   "source": [
    "# 靜態網頁的資料爬蟲策略\n",
    "\n",
    "\n",
    "* 了解靜態網頁的資料爬蟲策略\n",
    "* 認識適用於靜態網頁爬蟲的相關套件工具：Request\n",
    "* 認識適用於靜態網頁爬蟲的相關套件工具：BeatifulSoup"
   ]
  },
  {
   "cell_type": "markdown",
   "metadata": {},
   "source": [
    "## 作業目標\n",
    "\n",
    "利用 Request + BeatifulSoup 爬取下列兩個網站內容並解析：\n",
    "\n",
    "1. Dcared 網址： https://www.dcard.tw/f\n",
    "2. 知乎： https://www.zhihu.com/explore\n",
    "\n",
    "並且回答下面問題：\n",
    "\n",
    "1. Request 取回之後該怎麼取出資料，資料型態是什麼？\n",
    "2. 為什麼要使用 BeatifulSoup 處理？處理後的型態是什麼？\n",
    "3. 觀察一下知乎回來的資料好像有點怪怪的，該怎麼解決？"
   ]
  },
  {
   "cell_type": "markdown",
   "metadata": {},
   "source": [
    "### 1. Dcard 網址： https://www.dcard.tw/f"
   ]
  },
  {
   "cell_type": "code",
   "execution_count": 7,
   "metadata": {},
   "outputs": [],
   "source": [
    "import requests\n",
    "from bs4 import BeautifulSoup #結構樹\n"
   ]
  },
  {
   "cell_type": "code",
   "execution_count": 19,
   "metadata": {
    "scrolled": true
   },
   "outputs": [
    {
     "name": "stdout",
     "output_type": "stream",
     "text": [
      "<!DOCTYPE html><html lang=\"zh-Hant-TW\"><head prefix=\"og: http://ogp.me/ns#\" itemscope=\"\" itemType=\"https://schema.org/WebSite\"><title data-react-helmet=\"true\">Dcard</title><meta data-react-helmet=\"true\" property=\"og:image\" content=\"https://www.dcard.tw/build/landing-c9e7b8fb.png\"/><meta data-react-helmet=\"true\" property=\"og:image:secure_url\" content=\"https://www.dcard.tw/build/landing-c9e7b8fb.png\"/><meta data-react-helmet=\"true\" charSet=\"utf-8\"/><meta data-react-helmet=\"true\" http-equiv=\"X-UA-Compatible\" content=\"IE=edge\"/><meta data-react-helmet=\"true\" name=\"application-name\" content=\"Dcard\"/><meta data-react-helmet=\"true\" name=\"apple-itunes-app\" content=\"app-id=951353454\"/><meta data-react-helmet=\"true\" name=\"theme-color\" content=\"#006aa6\"/><meta data-react-helmet=\"true\" name=\"mobile-web-app-capable\" content=\"yes\"/><meta data-react-helmet=\"true\" name=\"apple-mobile-web-app-capable\" content=\"yes\"/><meta data-react-helmet=\"true\" property=\"fb:app_id\" content=\"211628828926493\"/><meta dat\n"
     ]
    }
   ],
   "source": [
    "url = 'https://www.dcard.tw/f' \n",
    "# 想要爬資料的目標網址\n",
    "r = requests.get(url) # 模擬發送請求的動作\n",
    "response = r.text \n",
    "\n",
    "r.encoding = 'utf-8'\n",
    "print(r.text[0:1000])\n",
    "soup = BeautifulSoup(response, \"html5lib\") #結構樹 'html.parser'\n",
    "# soup #結構樹\n"
   ]
  },
  {
   "cell_type": "code",
   "execution_count": 14,
   "metadata": {},
   "outputs": [
    {
     "name": "stdout",
     "output_type": "stream",
     "text": [
      "Request 取回之後該怎麼取出資料? =>  資料型態是什麼？ =>\n",
      "1.Request 取回之後該怎麼取出資料? => BeautifulSoup\n",
      "2.資料型態是什麼？ => <class 'str'>\n"
     ]
    }
   ],
   "source": [
    "print('Request 取回之後該怎麼取出資料? =>  資料型態是什麼？ =>')\n",
    "print('1.Request 取回之後該怎麼取出資料? => BeautifulSoup')\n",
    "print('2.資料型態是什麼？ =>',type(r.text))\n",
    "      "
   ]
  },
  {
   "cell_type": "code",
   "execution_count": 20,
   "metadata": {},
   "outputs": [
    {
     "name": "stdout",
     "output_type": "stream",
     "text": [
      "為什麼要使用 BeatifulSoup 處理？處理後的型態是什麼？ => \n",
      "2.為什麼要使用 BeatifulSoup 處理？ =>功能包括解析HTML、XML⽂件、修復含有未閉合標籤等錯誤的⽂件。這個擴充包為待解析的⾴面建立一棵樹，以便提取其中的資料\n",
      "3.處理後的型態是什麼？ => <class 'bs4.BeautifulSoup'>\n"
     ]
    }
   ],
   "source": [
    "print('為什麼要使用 BeatifulSoup 處理？處理後的型態是什麼？ => ')\n",
    "print('2.為什麼要使用 BeatifulSoup 處理？ =>功能包括解析HTML、XML⽂件、修復含有未閉合標籤等錯誤的⽂件。這個擴充包為待解析的⾴面建立一棵樹，以便提取其中的資料')\n",
    "print('3.處理後的型態是什麼？ =>' ,type(soup))"
   ]
  },
  {
   "cell_type": "markdown",
   "metadata": {},
   "source": [
    "### 2. 知乎： https://www.zhihu.com/explore"
   ]
  },
  {
   "cell_type": "code",
   "execution_count": 21,
   "metadata": {},
   "outputs": [
    {
     "name": "stdout",
     "output_type": "stream",
     "text": [
      "<html>\n",
      "<head><title>400 Bad Request</title></head>\n",
      "<body bgcolor=\"white\">\n",
      "<center><h1>400 Bad Request</h1></center>\n",
      "<hr><center>openresty</center>\n",
      "</body>\n",
      "</html>\n",
      "\n"
     ]
    }
   ],
   "source": [
    "url = 'https://www.zhihu.com/explore'\n",
    "r = requests.get(url)\n",
    "r.encoding = 'utf-8'\n",
    "\n",
    "print(r.text[0:600])\n",
    "\n",
    "# <html>\n",
    "# <head><title>400 Bad Request</title></head>\n",
    "# <body bgcolor=\"white\">\n",
    "# <center><h1>400 Bad Request</h1></center>\n",
    "# <hr><center>openresty</center>\n",
    "# </body>\n",
    "# </html>"
   ]
  },
  {
   "cell_type": "markdown",
   "metadata": {},
   "source": [
    "### 3. 觀察一下知乎回來的資料好像有點怪怪的，該怎麼解決？"
   ]
  },
  {
   "cell_type": "code",
   "execution_count": 23,
   "metadata": {},
   "outputs": [
    {
     "name": "stdout",
     "output_type": "stream",
     "text": [
      "<!doctype html>\n",
      "<html lang=\"zh\" data-hairline=\"true\" data-theme=\"light\"><head><meta charSet=\"utf-8\"/><title data-react-helmet=\"true\">发现 - 知乎</title><meta name=\"viewport\" content=\"width=device-width,initial-scale=1,maximum-scale=1\"/><meta name=\"renderer\" content=\"webkit\"/><meta name=\"force-rendering\" content=\"webkit\"/><meta http-equiv=\"X-UA-Compatible\" content=\"IE=edge,chrome=1\"/><meta name=\"google-site-verification\" content=\"FTeR0c8arOPKh8c5DYh_9uu98_zJbaWw53J-Sch9MTg\"/><meta name=\"description\" property=\"og:description\" content=\"有问题，上知乎。知乎，可信赖的问答社区，以让每个人高效获得可信赖的解答为使命。知乎凭借认真、专业和友善的社区氛围，结构化、易获得的优质内容，基于问答的内容生产方式和独特的社区机制，吸引、聚集了各行各业中大量的亲历者、内行人、领域专家、领域爱好者，将高质量的内容透过人的节点来成规模地生产和分享。用户通过问答等交流方式建立信任和连接，打造和提升个人影响力，并发现、获得新机会。\"/><link data-react-helmet=\"true\" rel=\"apple-touch-icon\" href=\"https://static.zhihu.com/heifetz/assets/apple-touch-icon-152.67c7b278.png\"/><link data-react-helmet=\"true\" rel=\"apple-touch-icon\" href=\"https://static.zhihu.com/heifetz/assets/apple-touch-icon-152.67c7b278.png\" size\n"
     ]
    }
   ],
   "source": [
    "import requests\n",
    "url = 'https://www.zhihu.com/explore'\n",
    "headers = {'User-Agent': \\\n",
    "           'Mozilla/5.0 (Macintosh; Intel Mac OS X 10_13_6) \\\n",
    "            AppleWebKit/537.36 (KHTML, like Gecko) \\\n",
    "            Chrome/71.0.3578.98 Safari/537.36'}\n",
    "r = requests.get(url, headers=headers)\n",
    "# r = requests.get(url)\n",
    "\n",
    "r.encoding = 'utf-8'\n",
    "print(r.text[0:1000])"
   ]
  },
  {
   "cell_type": "code",
   "execution_count": null,
   "metadata": {},
   "outputs": [],
   "source": []
  },
  {
   "cell_type": "code",
   "execution_count": null,
   "metadata": {},
   "outputs": [],
   "source": []
  }
 ],
 "metadata": {
  "kernelspec": {
   "display_name": "Python 3",
   "language": "python",
   "name": "python3"
  },
  "language_info": {
   "codemirror_mode": {
    "name": "ipython",
    "version": 3
   },
   "file_extension": ".py",
   "mimetype": "text/x-python",
   "name": "python",
   "nbconvert_exporter": "python",
   "pygments_lexer": "ipython3",
   "version": "3.7.3"
  }
 },
 "nbformat": 4,
 "nbformat_minor": 4
}
