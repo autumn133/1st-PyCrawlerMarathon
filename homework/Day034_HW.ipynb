{
 "cells": [
  {
   "cell_type": "markdown",
   "metadata": {
    "colab_type": "text",
    "id": "I8CoX4R7VoCd"
   },
   "source": [
    "# 反爬：代理伺服器/IP\n",
    "\n",
    "* 了解「IP 黑/白名單」的反爬蟲機制\n",
    "* 「IP 黑/白名單」反爬蟲的因應策略"
   ]
  },
  {
   "cell_type": "markdown",
   "metadata": {
    "colab_type": "text",
    "id": "n-3DZ_r5VoCe"
   },
   "source": [
    "## 作業目標\n",
    "\n",
    "* 目前程式中的 proxy_ips 是手動輸入的，請根據 https://free-proxy-list.net/ 寫一個可自動化抓取可用 Proxy 的 proxy_ips。\n",
    "\n",
    "\n"
   ]
  },
  {
   "cell_type": "code",
   "execution_count": 13,
   "metadata": {
    "colab": {},
    "colab_type": "code",
    "id": "iny-9heBVoCf"
   },
   "outputs": [],
   "source": [
    "# proxy_ips = []\n",
    "\n",
    "'''\n",
    "Your Code\n",
    "'''\n",
    "from bs4 import BeautifulSoup\n",
    "import requests\n",
    "import random"
   ]
  },
  {
   "cell_type": "code",
   "execution_count": 14,
   "metadata": {},
   "outputs": [
    {
     "name": "stdout",
     "output_type": "stream",
     "text": [
      "Use 91.226.35.93:53281\n",
      "Fail\n",
      "Use 115.124.86.105:37600\n",
      "Fail\n",
      "Use 68.183.105.214:8080\n",
      "Fail\n",
      "Use 94.74.190.52:80\n",
      "Fail\n",
      "Use 91.226.35.93:53281\n",
      "Your IP address: 91.226.35.93\n",
      "Use 91.226.35.93:53281\n",
      "Your IP address: 91.226.35.93\n",
      "Use 122.176.65.143:39859\n",
      "Your IP address: 122.176.65.143\n",
      "Use 122.176.65.143:39859\n",
      "Fail\n",
      "Use 91.226.35.93:53281\n",
      "Your IP address: 91.226.35.93\n",
      "Use 115.124.86.105:37600\n",
      "Fail\n"
     ]
    }
   ],
   "source": [
    "proxy_ips = ['122.176.65.143:39859','115.124.86.105:37600','91.226.35.93:53281','94.74.190.52:80','68.183.105.214:8080']\n",
    "for i in range(10):\n",
    "    ip = random.choice(proxy_ips)\n",
    "    print('Use', ip)\n",
    "    try:\n",
    "        resp = requests.get('http://ip.filefab.com/index.php',\n",
    "                        proxies={'http': ip, 'https': ip}, timeout=10)\n",
    "        soup = BeautifulSoup(resp.text, 'html5lib')\n",
    "        print(soup.find('h1', id='ipd').text.strip())\n",
    "    except:\n",
    "        print('Fail')"
   ]
  },
  {
   "cell_type": "code",
   "execution_count": 1,
   "metadata": {},
   "outputs": [],
   "source": [
    "import time\n",
    "from bs4 import BeautifulSoup\n",
    "from selenium import webdriver\n",
    "from selenium.webdriver.common.by import By\n",
    "from selenium.webdriver.support import expected_conditions as EC\n",
    "from selenium.webdriver.support.ui import Select, WebDriverWait\n",
    "from selenium.webdriver.common.keys import Keys\n",
    "import requests\n",
    "import re\n",
    "import math\n",
    "import pandas as pd\n",
    "import random"
   ]
  },
  {
   "cell_type": "code",
   "execution_count": 3,
   "metadata": {},
   "outputs": [
    {
     "name": "stdout",
     "output_type": "stream",
     "text": [
      "目前在爬取第1頁/共4頁...\n",
      "切換下一頁中...\n",
      "目前在爬取第2頁/共4頁...\n",
      "切換下一頁中...\n",
      "目前在爬取第3頁/共4頁...\n",
      "切換下一頁中...\n",
      "目前在爬取第4頁/共4頁...\n",
      "沒有下一頁了...\n"
     ]
    },
    {
     "data": {
      "text/html": [
       "<div>\n",
       "<style scoped>\n",
       "    .dataframe tbody tr th:only-of-type {\n",
       "        vertical-align: middle;\n",
       "    }\n",
       "\n",
       "    .dataframe tbody tr th {\n",
       "        vertical-align: top;\n",
       "    }\n",
       "\n",
       "    .dataframe thead th {\n",
       "        text-align: right;\n",
       "    }\n",
       "</style>\n",
       "<table border=\"1\" class=\"dataframe\">\n",
       "  <thead>\n",
       "    <tr style=\"text-align: right;\">\n",
       "      <th></th>\n",
       "      <th>IP Address</th>\n",
       "      <th>Port</th>\n",
       "      <th>Code</th>\n",
       "      <th>Country</th>\n",
       "      <th>Anonymity</th>\n",
       "      <th>Google</th>\n",
       "      <th>Https</th>\n",
       "      <th>Last Checked</th>\n",
       "    </tr>\n",
       "  </thead>\n",
       "  <tbody>\n",
       "    <tr>\n",
       "      <th>0</th>\n",
       "      <td>183.88.16.95</td>\n",
       "      <td>8080</td>\n",
       "      <td>TH</td>\n",
       "      <td>Thailand</td>\n",
       "      <td>transparent</td>\n",
       "      <td>no</td>\n",
       "      <td>no</td>\n",
       "      <td>11 seconds ago</td>\n",
       "    </tr>\n",
       "    <tr>\n",
       "      <th>1</th>\n",
       "      <td>188.51.31.109</td>\n",
       "      <td>8080</td>\n",
       "      <td>SA</td>\n",
       "      <td>Saudi Arabia</td>\n",
       "      <td>transparent</td>\n",
       "      <td>no</td>\n",
       "      <td>no</td>\n",
       "      <td>11 seconds ago</td>\n",
       "    </tr>\n",
       "    <tr>\n",
       "      <th>2</th>\n",
       "      <td>36.37.139.2</td>\n",
       "      <td>50938</td>\n",
       "      <td>KH</td>\n",
       "      <td>Cambodia</td>\n",
       "      <td>elite proxy</td>\n",
       "      <td>no</td>\n",
       "      <td>yes</td>\n",
       "      <td>11 seconds ago</td>\n",
       "    </tr>\n",
       "    <tr>\n",
       "      <th>3</th>\n",
       "      <td>159.192.253.235</td>\n",
       "      <td>8080</td>\n",
       "      <td>TH</td>\n",
       "      <td>Thailand</td>\n",
       "      <td>transparent</td>\n",
       "      <td>no</td>\n",
       "      <td>no</td>\n",
       "      <td>11 seconds ago</td>\n",
       "    </tr>\n",
       "    <tr>\n",
       "      <th>4</th>\n",
       "      <td>138.0.230.49</td>\n",
       "      <td>63141</td>\n",
       "      <td>HN</td>\n",
       "      <td>Honduras</td>\n",
       "      <td>elite proxy</td>\n",
       "      <td>no</td>\n",
       "      <td>yes</td>\n",
       "      <td>11 seconds ago</td>\n",
       "    </tr>\n",
       "    <tr>\n",
       "      <th>...</th>\n",
       "      <td>...</td>\n",
       "      <td>...</td>\n",
       "      <td>...</td>\n",
       "      <td>...</td>\n",
       "      <td>...</td>\n",
       "      <td>...</td>\n",
       "      <td>...</td>\n",
       "      <td>...</td>\n",
       "    </tr>\n",
       "    <tr>\n",
       "      <th>295</th>\n",
       "      <td>85.117.61.186</td>\n",
       "      <td>49929</td>\n",
       "      <td>GE</td>\n",
       "      <td>Georgia</td>\n",
       "      <td>elite proxy</td>\n",
       "      <td>no</td>\n",
       "      <td>yes</td>\n",
       "      <td>21 minutes ago</td>\n",
       "    </tr>\n",
       "    <tr>\n",
       "      <th>296</th>\n",
       "      <td>103.35.132.50</td>\n",
       "      <td>36555</td>\n",
       "      <td>IN</td>\n",
       "      <td>India</td>\n",
       "      <td>elite proxy</td>\n",
       "      <td>no</td>\n",
       "      <td>yes</td>\n",
       "      <td>21 minutes ago</td>\n",
       "    </tr>\n",
       "    <tr>\n",
       "      <th>297</th>\n",
       "      <td>187.17.145.237</td>\n",
       "      <td>30279</td>\n",
       "      <td>BR</td>\n",
       "      <td>Brazil</td>\n",
       "      <td>elite proxy</td>\n",
       "      <td>no</td>\n",
       "      <td>yes</td>\n",
       "      <td>21 minutes ago</td>\n",
       "    </tr>\n",
       "    <tr>\n",
       "      <th>298</th>\n",
       "      <td>190.151.94.3</td>\n",
       "      <td>46615</td>\n",
       "      <td>CL</td>\n",
       "      <td>Chile</td>\n",
       "      <td>elite proxy</td>\n",
       "      <td>no</td>\n",
       "      <td>yes</td>\n",
       "      <td>21 minutes ago</td>\n",
       "    </tr>\n",
       "    <tr>\n",
       "      <th>299</th>\n",
       "      <td>200.41.94.105</td>\n",
       "      <td>41310</td>\n",
       "      <td>CL</td>\n",
       "      <td>Chile</td>\n",
       "      <td>elite proxy</td>\n",
       "      <td>no</td>\n",
       "      <td>yes</td>\n",
       "      <td>21 minutes ago</td>\n",
       "    </tr>\n",
       "  </tbody>\n",
       "</table>\n",
       "<p>300 rows × 8 columns</p>\n",
       "</div>"
      ],
      "text/plain": [
       "          IP Address   Port Code       Country    Anonymity Google Https  \\\n",
       "0       183.88.16.95   8080   TH      Thailand  transparent     no    no   \n",
       "1      188.51.31.109   8080   SA  Saudi Arabia  transparent     no    no   \n",
       "2        36.37.139.2  50938   KH      Cambodia  elite proxy     no   yes   \n",
       "3    159.192.253.235   8080   TH      Thailand  transparent     no    no   \n",
       "4       138.0.230.49  63141   HN      Honduras  elite proxy     no   yes   \n",
       "..               ...    ...  ...           ...          ...    ...   ...   \n",
       "295    85.117.61.186  49929   GE       Georgia  elite proxy     no   yes   \n",
       "296    103.35.132.50  36555   IN         India  elite proxy     no   yes   \n",
       "297   187.17.145.237  30279   BR        Brazil  elite proxy     no   yes   \n",
       "298     190.151.94.3  46615   CL         Chile  elite proxy     no   yes   \n",
       "299    200.41.94.105  41310   CL         Chile  elite proxy     no   yes   \n",
       "\n",
       "       Last Checked  \n",
       "0    11 seconds ago  \n",
       "1    11 seconds ago  \n",
       "2    11 seconds ago  \n",
       "3    11 seconds ago  \n",
       "4    11 seconds ago  \n",
       "..              ...  \n",
       "295  21 minutes ago  \n",
       "296  21 minutes ago  \n",
       "297  21 minutes ago  \n",
       "298  21 minutes ago  \n",
       "299  21 minutes ago  \n",
       "\n",
       "[300 rows x 8 columns]"
      ]
     },
     "execution_count": 3,
     "metadata": {},
     "output_type": "execute_result"
    }
   ],
   "source": [
    "proxy_url = \"https://free-proxy-list.net/\"\n",
    "entries_per_page = '80'\n",
    "proxy_ips = []\n",
    "\n",
    "browser = webdriver.Chrome(executable_path='chromedriver')\n",
    "# browser = webdriver.Chrome(executable_path='./Data/chromedriver')\n",
    "browser.get(proxy_url)  # 打開瀏覽器並連到網頁\n",
    "time.sleep(2)  # delay一段時間等待網頁更新完成\n",
    "\n",
    "# 顯示設定每頁幾筆選項\n",
    "browser.execute_script(\"document.getElementById('proxylisttable_length') \\\n",
    "                        .style.display='inline-block';\")\n",
    "WebDriverWait(browser,\n",
    "              2).until(EC.visibility_of_element_located((By.ID, 'proxylisttable_length')))\n",
    "    \n",
    "# 設定為每頁80筆\n",
    "options = Select(browser.find_element_by_xpath(\"//div[@id='proxylisttable_length'] \\\n",
    "                                                //select[@name='proxylisttable_length']\"))\n",
    "options.select_by_value(entries_per_page)\n",
    "\n",
    "data = []\n",
    "\n",
    "while True:\n",
    "    time.sleep(5)  # delay一段時間等待網頁更新完成\n",
    "    html = browser.page_source\n",
    "    soup = BeautifulSoup(html, 'lxml')\n",
    "    \n",
    "    active_page = soup.find('li',\n",
    "                            attrs={'class':'fg-button ui-button ui-state-default active'}\n",
    "                           ).a.text\n",
    "\n",
    "    # 直接用計算的方式取得總頁數\n",
    "    if active_page == '1':\n",
    "        entries_info = re.findall(r'\\d+', soup.find('div', attrs={'id':'proxylisttable_info'}).text)\n",
    "        page_total = str(math.ceil(int(entries_info[2]) / int(entries_per_page)))\n",
    "        proxy_columns = soup.find('table',\n",
    "                                  attrs={'class':'table table-striped table-bordered dataTable'}\n",
    "                                 ).thead.find_all('th')\n",
    "        columns = [name for ele in proxy_columns for name in ele]\n",
    "\n",
    "    print('目前在爬取第{}頁/共{}頁...'.format(active_page, page_total))\n",
    "\n",
    "    ips_list = soup.find('table',\n",
    "                         attrs={'class':'table table-striped table-bordered dataTable'}\n",
    "                        ).find_all('tr', attrs={'class':re.compile('odd|even')})\n",
    "\n",
    "    # 擷取proxies\n",
    "    for ips in ips_list:\n",
    "        ip_info = []        \n",
    "        for info in ips:\n",
    "            ip_info.append(info.text)\n",
    "        data.append(ip_info)\n",
    "        proxy_ips.append(ip_info[0]+':'+ip_info[1])\n",
    "\n",
    "    if active_page == page_total:\n",
    "        print('沒有下一頁了...')\n",
    "        break\n",
    "    else:\n",
    "        print('切換下一頁中...')\n",
    "        browser.find_element_by_link_text('Next').click()\n",
    "        continue\n",
    "\n",
    "# 關閉瀏覽器\n",
    "browser.quit();\n",
    "\n",
    "# 列出全部proxy資料\n",
    "pd.DataFrame(data, columns=columns)\n"
   ]
  },
  {
   "cell_type": "code",
   "execution_count": 4,
   "metadata": {},
   "outputs": [
    {
     "name": "stdout",
     "output_type": "stream",
     "text": [
      "Use 67.205.146.29:8080\n",
      "Your IP address: 67.205.146.29\n",
      "Use 45.174.152.14:8080\n",
      "Fail\n",
      "Use 196.3.97.34:23500\n",
      "Fail\n",
      "Use 145.239.81.69:3128\n",
      "Your IP address: 145.239.81.69\n",
      "Use 109.232.106.236:47524\n",
      "Fail\n",
      "Use 124.41.240.203:55948\n",
      "Fail\n",
      "Use 114.6.197.254:8080\n",
      "Fail\n",
      "Use 193.242.151.45:8080\n",
      "Fail\n",
      "Use 110.34.28.31:42890\n",
      "Your IP address: 110.34.28.31\n",
      "Use 139.99.91.70:8080\n",
      "Fail\n"
     ]
    }
   ],
   "source": [
    "for i in range(10):\n",
    "    ip = random.choice(proxy_ips)\n",
    "    print('Use', ip)\n",
    "    try:\n",
    "        resp = requests.get('http://ip.filefab.com/index.php',\n",
    "                            proxies={'http': 'http://' + ip,\n",
    "                                     'https': 'https://' + ip},\n",
    "                            timeout=10)\n",
    "        soup = BeautifulSoup(resp.text, 'html5lib')\n",
    "        print(soup.find('h1', id='ipd').text.strip())\n",
    "    except:\n",
    "        print('Fail')"
   ]
  },
  {
   "cell_type": "code",
   "execution_count": 5,
   "metadata": {},
   "outputs": [],
   "source": [
    "import requests\n",
    "from bs4 import BeautifulSoup\n",
    "import random\n"
   ]
  },
  {
   "cell_type": "code",
   "execution_count": 6,
   "metadata": {},
   "outputs": [
    {
     "data": {
      "text/plain": [
       "['202.51.110.158:32247',\n",
       " '103.117.213.74:59283',\n",
       " '124.41.211.211:46709',\n",
       " '181.57.198.102:46960',\n",
       " '181.211.38.62:47911']"
      ]
     },
     "execution_count": 6,
     "metadata": {},
     "output_type": "execute_result"
    }
   ],
   "source": [
    "proxy_ips = []\n",
    "\n",
    "url = 'https://free-proxy-list.net/'\n",
    "resp = requests.get(url)\n",
    "soup = BeautifulSoup(resp.text,'html.parser')\n",
    "table = soup.find(name='table',attrs={'id':'proxylisttable'})\n",
    "tbody = table.find('tbody')\n",
    "for tr in tbody:\n",
    "    ip = tr.td.string\n",
    "    port = tr.td.next_sibling.string\n",
    "    proxy_ips.append(ip + \":\" + port)\n",
    "proxy_ips[:5]"
   ]
  },
  {
   "cell_type": "code",
   "execution_count": 7,
   "metadata": {},
   "outputs": [
    {
     "name": "stdout",
     "output_type": "stream",
     "text": [
      "Use 183.91.87.45:3128\n",
      "Your IP address: 183.91.87.35\n",
      "Use 103.143.196.26:8080\n",
      "Your IP address: 103.143.196.2\n",
      "Use 186.228.20.194:80\n",
      "-Fail\n",
      "Use 144.217.163.138:8080\n",
      "Your IP address: 144.217.163.138\n",
      "Use 114.6.87.177:60811\n",
      "Your IP address: 114.6.88.238\n",
      "Use 176.9.75.42:8080\n",
      "Your IP address: 176.9.75.42\n",
      "Use 177.66.221.5:8080\n",
      "-Fail\n",
      "Use 88.200.63.190:80\n",
      "-Fail\n",
      "Use 103.25.167.200:42375\n",
      "-Fail\n",
      "Use 169.0.92.100:8080\n",
      "Your IP address: 169.0.92.100\n"
     ]
    }
   ],
   "source": [
    "for i in range(10):\n",
    "    ip = random.choice(proxy_ips)\n",
    "    print('Use', ip)\n",
    "    try:\n",
    "        resp = requests.get('http://ip.filefab.com/index.php',\n",
    "                        proxies={'http': 'http://'+ip, 'https':'https://'+ ip}, timeout=10)\n",
    "        soup = BeautifulSoup(resp.text, 'html5lib')\n",
    "        print(soup.find('h1', id='ipd').text.strip())\n",
    "    except:\n",
    "        print('-Fail')"
   ]
  },
  {
   "cell_type": "code",
   "execution_count": 8,
   "metadata": {},
   "outputs": [],
   "source": [
    "from bs4 import BeautifulSoup\n",
    "import requests\n",
    "import random\n",
    "import re"
   ]
  },
  {
   "cell_type": "code",
   "execution_count": 9,
   "metadata": {},
   "outputs": [
    {
     "data": {
      "text/plain": [
       "300"
      ]
     },
     "execution_count": 9,
     "metadata": {},
     "output_type": "execute_result"
    }
   ],
   "source": [
    "r = requests.get('https://free-proxy-list.net/')\n",
    "soup = BeautifulSoup(r.text, 'html5lib')\n",
    "\n",
    "regex = '(\\d{1,3}).(\\d{1,3}).(\\d{1,3}).(\\d{1,3})'\n",
    "pattern = re.compile(regex)\n",
    "\n",
    "proxy_ips = []\n",
    "for td in soup.find('table',id='proxylisttable').find_all('td'):\n",
    "    td = td.text\n",
    "    result = re.search(pattern, td)\n",
    "    if result:\n",
    "        proxy_ips.append(td)\n",
    "\n",
    "len(proxy_ips)"
   ]
  },
  {
   "cell_type": "code",
   "execution_count": 10,
   "metadata": {},
   "outputs": [
    {
     "name": "stdout",
     "output_type": "stream",
     "text": [
      "Use 14.143.168.230\n",
      "Fail\n",
      "Use 103.216.48.83\n",
      "Fail\n",
      "Use 110.34.28.31\n",
      "Fail\n",
      "Use 185.134.23.171\n",
      "Your IP address: 185.134.23.171\n",
      "Use 118.137.146.95\n",
      "Fail\n",
      "Use 134.35.134.145\n",
      "Fail\n",
      "Use 24.172.225.122\n",
      "Fail\n",
      "Use 200.152.78.48\n",
      "Fail\n",
      "Use 200.89.178.216\n",
      "Your IP address: 200.89.178.216\n",
      "Use 185.134.23.172\n",
      "Fail\n"
     ]
    }
   ],
   "source": [
    "for i in range(10):\n",
    "    ip = random.choice(proxy_ips)\n",
    "    print('Use', ip)\n",
    "    try:\n",
    "        resp = requests.get('http://ip.filefab.com/index.php',\n",
    "                        proxies={'http': ip, 'https': ip}, timeout=10)\n",
    "        soup = BeautifulSoup(resp.text, 'html5lib')\n",
    "        print(soup.find('h1', id='ipd').text.strip())\n",
    "    except:\n",
    "        print('Fail')"
   ]
  },
  {
   "cell_type": "code",
   "execution_count": 11,
   "metadata": {},
   "outputs": [
    {
     "name": "stdout",
     "output_type": "stream",
     "text": [
      "302\n"
     ]
    }
   ],
   "source": [
    "from bs4 import BeautifulSoup\n",
    "import requests\n",
    "import random\n",
    "\n",
    "proxy_ips = []\n",
    "\n",
    "res = requests.get('https://free-proxy-list.net/')\n",
    "soup = BeautifulSoup(res.text, 'html5lib')\n",
    "table=soup.find(id='proxylisttable')\n",
    "trs=table.find_all('tr')\n",
    "print(len(trs))\n",
    "for tr in trs:\n",
    "    tds=tr.find_all('td')\n",
    "    if (len(tds)>0):\n",
    "        proxy_ips.append(tds[0].text)"
   ]
  },
  {
   "cell_type": "code",
   "execution_count": 12,
   "metadata": {},
   "outputs": [
    {
     "name": "stdout",
     "output_type": "stream",
     "text": [
      "Use 182.53.197.22\n",
      "Fail\n",
      "Use 196.3.97.34\n",
      "Fail\n",
      "Use 195.230.115.115\n",
      "Fail\n",
      "Use 46.19.100.28\n",
      "Fail\n",
      "Use 109.167.207.72\n",
      "Fail\n",
      "Use 118.97.188.50\n",
      "Fail\n",
      "Use 103.105.77.38\n",
      "Fail\n",
      "Use 118.137.146.95\n",
      "Fail\n",
      "Use 109.167.207.72\n",
      "Fail\n",
      "Use 212.24.148.234\n",
      "Fail\n"
     ]
    }
   ],
   "source": [
    "\n",
    "for i in range(10):\n",
    "    ip = random.choice(proxy_ips)\n",
    "    print('Use', ip)\n",
    "    try:\n",
    "        resp = requests.get('http://ip.filefab.com/index.php',\n",
    "                        proxies={'http': ip, 'https': ip}, timeout=10)\n",
    "        soup = BeautifulSoup(resp.text, 'html5lib')\n",
    "        print(soup.find('h1', id='ipd').text.strip())\n",
    "    except:\n",
    "        print('Fail')"
   ]
  }
 ],
 "metadata": {
  "colab": {
   "name": "homework.ipynb",
   "provenance": []
  },
  "kernelspec": {
   "display_name": "spider",
   "language": "python",
   "name": "spider"
  },
  "language_info": {
   "codemirror_mode": {
    "name": "ipython",
    "version": 3
   },
   "file_extension": ".py",
   "mimetype": "text/x-python",
   "name": "python",
   "nbconvert_exporter": "python",
   "pygments_lexer": "ipython3",
   "version": "3.6.9"
  }
 },
 "nbformat": 4,
 "nbformat_minor": 4
}
