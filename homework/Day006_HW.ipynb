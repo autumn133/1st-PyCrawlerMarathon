{
 "cells": [
  {
   "cell_type": "markdown",
   "metadata": {},
   "source": [
    "# API 資料串接 - 以 知乎 API 實作範例\n",
    "\n",
    "\n",
    "\n",
    "* 了解知乎 API 使用方式與回傳內容\n",
    "* 撰寫程式存取 API 且添加標頭\n",
    "\n",
    "\n"
   ]
  },
  {
   "cell_type": "markdown",
   "metadata": {},
   "source": [
    "## 作業目標\n",
    "\n",
    "* 根據範例提供的 API ，完成以下問題：\n",
    "\n",
    "    1. 取出知乎問題發問時間\n",
    "    2. 取出第一筆與最後一筆回答的時間\n"
   ]
  },
  {
   "cell_type": "markdown",
   "metadata": {},
   "source": [
    "### 1. 取出知乎問題發問時間"
   ]
  },
  {
   "cell_type": "code",
   "execution_count": 2,
   "metadata": {},
   "outputs": [
    {
     "data": {
      "text/plain": [
       "'\\nYour Code\\n'"
      ]
     },
     "execution_count": 2,
     "metadata": {},
     "output_type": "execute_result"
    }
   ],
   "source": [
    "# 1. 取出知乎問題發問時間\n",
    "'''\n",
    "https://www.zhihu.com/api/v4/questions/55493026/answers\n",
    "\n",
    " 知乎_你们都是怎么学 Python 的？\n",
    "https://www.zhihu.com/question/55493026/answer/163537026\n",
    "'''"
   ]
  },
  {
   "cell_type": "code",
   "execution_count": 72,
   "metadata": {
    "scrolled": true
   },
   "outputs": [],
   "source": [
    "# https://github.com/FelixYangPersonal/1st-PyCrawlerMarathon/blob/master/homework/Day006_HW.ipynb\n",
    "# https://github.com/andyliu770928/marathon_crawler/tree/master/HW\n",
    "#    https://github.com/stegosoft/1st-PyCrawlerMarathon/tree/master/homework\n",
    "import requests\n",
    "import json\n",
    "import pandas as pd\n",
    "from datetime import datetime"
   ]
  },
  {
   "cell_type": "code",
   "execution_count": 70,
   "metadata": {
    "scrolled": true
   },
   "outputs": [
    {
     "name": "stdout",
     "output_type": "stream",
     "text": [
      "共幾筆: 2\n",
      "----------------\n",
      "dict_keys(['id', 'type', 'answer_type', 'question', 'author', 'url', 'is_collapsed', 'created_time', 'updated_time', 'extras', 'is_copyable', 'relationship'])\n",
      "----------------\n",
      "id\n",
      "type\n",
      "answer_type\n",
      "question\n",
      "author\n",
      "url\n",
      "is_collapsed\n",
      "created_time\n",
      "updated_time\n",
      "extras\n",
      "is_copyable\n",
      "relationship\n",
      "----------------\n"
     ]
    },
    {
     "data": {
      "text/plain": [
       "{'id': 683070334,\n",
       " 'type': 'answer',\n",
       " 'answer_type': 'normal',\n",
       " 'question': {'type': 'question',\n",
       "  'id': 55493026,\n",
       "  'title': '你们都是怎么学 Python 的？',\n",
       "  'question_type': 'normal',\n",
       "  'created': 1486390229,\n",
       "  'updated_time': 1543075931,\n",
       "  'url': 'https://www.zhihu.com/api/v4/questions/55493026',\n",
       "  'relationship': {}},\n",
       " 'author': {'id': '36f69162230003d316d0b8a6d8da20ba',\n",
       "  'url_token': 'liang-zi-wei-48',\n",
       "  'name': '量子位',\n",
       "  'avatar_url': 'https://pic4.zhimg.com/v2-ca6e7ffc10a0d10edbae635cee82d007_is.jpg',\n",
       "  'avatar_url_template': 'https://pic4.zhimg.com/v2-ca6e7ffc10a0d10edbae635cee82d007_{size}.jpg',\n",
       "  'is_org': True,\n",
       "  'type': 'people',\n",
       "  'url': 'https://www.zhihu.com/api/v4/people/36f69162230003d316d0b8a6d8da20ba',\n",
       "  'user_type': 'organization',\n",
       "  'headline': '有趣的前沿科技→_→ 公众号：QbitAI',\n",
       "  'badge': [{'type': 'identity', 'description': '已认证的官方帐号', 'topics': []},\n",
       "   {'type': 'best_answerer', 'description': '优秀回答者', 'topics': []}],\n",
       "  'gender': -1,\n",
       "  'is_advertiser': False,\n",
       "  'is_privacy': False},\n",
       " 'url': 'https://www.zhihu.com/api/v4/answers/683070334',\n",
       " 'is_collapsed': False,\n",
       " 'created_time': 1557824412,\n",
       " 'updated_time': 1557824412,\n",
       " 'extras': '',\n",
       " 'is_copyable': True,\n",
       " 'relationship': {'upvoted_followees': []}}"
      ]
     },
     "execution_count": 70,
     "metadata": {},
     "output_type": "execute_result"
    }
   ],
   "source": [
    "headers = {'user-agent': 'my-app/0.0.1'}\n",
    "r = requests.get('https://www.zhihu.com/api/v4/questions/55493026/answers',headers=headers)\n",
    "\n",
    "response = r.text\n",
    "# response\n",
    "data = json.loads(response)#解析 <<<\n",
    "print(\"共幾筆:\" , len(data)) #<<<\n",
    "# data\n",
    "data=data[\"data\"]\n",
    "print (\"----------------\") #橫式  <<<\n",
    "print(data[0].keys())#返回一个字典所有的键。 橫式(會排序) <<<\n",
    "\n",
    "print (\"----------------\") #列出單項 直式(會排序) <<<\n",
    "item = data[0] #<<<\n",
    "for key in item.keys(): #<<<\n",
    "    print(key) #<<<\n",
    "    \n",
    "print (\"----------------\")#內容 #<<<\n",
    "data[0] #<<<"
   ]
  },
  {
   "cell_type": "code",
   "execution_count": 73,
   "metadata": {
    "scrolled": true
   },
   "outputs": [
    {
     "data": {
      "text/html": [
       "<div>\n",
       "<style scoped>\n",
       "    .dataframe tbody tr th:only-of-type {\n",
       "        vertical-align: middle;\n",
       "    }\n",
       "\n",
       "    .dataframe tbody tr th {\n",
       "        vertical-align: top;\n",
       "    }\n",
       "\n",
       "    .dataframe thead th {\n",
       "        text-align: right;\n",
       "    }\n",
       "</style>\n",
       "<table border=\"1\" class=\"dataframe\">\n",
       "  <thead>\n",
       "    <tr style=\"text-align: right;\">\n",
       "      <th></th>\n",
       "      <th>answer_type</th>\n",
       "      <th>author</th>\n",
       "      <th>created_time</th>\n",
       "      <th>extras</th>\n",
       "      <th>id</th>\n",
       "      <th>is_collapsed</th>\n",
       "      <th>is_copyable</th>\n",
       "      <th>question</th>\n",
       "      <th>relationship</th>\n",
       "      <th>type</th>\n",
       "      <th>updated_time</th>\n",
       "      <th>url</th>\n",
       "    </tr>\n",
       "  </thead>\n",
       "  <tbody>\n",
       "    <tr>\n",
       "      <th>0</th>\n",
       "      <td>normal</td>\n",
       "      <td>{'id': '36f69162230003d316d0b8a6d8da20ba', 'ur...</td>\n",
       "      <td>1557824412</td>\n",
       "      <td></td>\n",
       "      <td>683070334</td>\n",
       "      <td>False</td>\n",
       "      <td>True</td>\n",
       "      <td>{'type': 'question', 'id': 55493026, 'title': ...</td>\n",
       "      <td>{'upvoted_followees': []}</td>\n",
       "      <td>answer</td>\n",
       "      <td>1557824412</td>\n",
       "      <td>https://www.zhihu.com/api/v4/answers/683070334</td>\n",
       "    </tr>\n",
       "    <tr>\n",
       "      <th>1</th>\n",
       "      <td>normal</td>\n",
       "      <td>{'id': 'e8c4768eaa41e3749f7e8bc5ac6aa74b', 'ur...</td>\n",
       "      <td>1554085028</td>\n",
       "      <td></td>\n",
       "      <td>637938925</td>\n",
       "      <td>False</td>\n",
       "      <td>True</td>\n",
       "      <td>{'type': 'question', 'id': 55493026, 'title': ...</td>\n",
       "      <td>{'upvoted_followees': []}</td>\n",
       "      <td>answer</td>\n",
       "      <td>1558451618</td>\n",
       "      <td>https://www.zhihu.com/api/v4/answers/637938925</td>\n",
       "    </tr>\n",
       "    <tr>\n",
       "      <th>2</th>\n",
       "      <td>normal</td>\n",
       "      <td>{'id': '788f207a6bf8f66c5bad79bd0f011065', 'ur...</td>\n",
       "      <td>1493707703</td>\n",
       "      <td></td>\n",
       "      <td>163642949</td>\n",
       "      <td>False</td>\n",
       "      <td>False</td>\n",
       "      <td>{'type': 'question', 'id': 55493026, 'title': ...</td>\n",
       "      <td>{'upvoted_followees': []}</td>\n",
       "      <td>answer</td>\n",
       "      <td>1493708357</td>\n",
       "      <td>https://www.zhihu.com/api/v4/answers/163642949</td>\n",
       "    </tr>\n",
       "    <tr>\n",
       "      <th>3</th>\n",
       "      <td>normal</td>\n",
       "      <td>{'id': 'eaf435b228ce0b038a4afe8203f59b49', 'ur...</td>\n",
       "      <td>1493693113</td>\n",
       "      <td></td>\n",
       "      <td>163537026</td>\n",
       "      <td>False</td>\n",
       "      <td>True</td>\n",
       "      <td>{'type': 'question', 'id': 55493026, 'title': ...</td>\n",
       "      <td>{'upvoted_followees': []}</td>\n",
       "      <td>answer</td>\n",
       "      <td>1555137867</td>\n",
       "      <td>https://www.zhihu.com/api/v4/answers/163537026</td>\n",
       "    </tr>\n",
       "    <tr>\n",
       "      <th>4</th>\n",
       "      <td>normal</td>\n",
       "      <td>{'id': '4d1c2c77bc7431c2a6006d154198e8b9', 'ur...</td>\n",
       "      <td>1572318426</td>\n",
       "      <td></td>\n",
       "      <td>873825546</td>\n",
       "      <td>False</td>\n",
       "      <td>False</td>\n",
       "      <td>{'type': 'question', 'id': 55493026, 'title': ...</td>\n",
       "      <td>{'upvoted_followees': []}</td>\n",
       "      <td>answer</td>\n",
       "      <td>1574756054</td>\n",
       "      <td>https://www.zhihu.com/api/v4/answers/873825546</td>\n",
       "    </tr>\n",
       "  </tbody>\n",
       "</table>\n",
       "</div>"
      ],
      "text/plain": [
       "  answer_type                                             author  \\\n",
       "0      normal  {'id': '36f69162230003d316d0b8a6d8da20ba', 'ur...   \n",
       "1      normal  {'id': 'e8c4768eaa41e3749f7e8bc5ac6aa74b', 'ur...   \n",
       "2      normal  {'id': '788f207a6bf8f66c5bad79bd0f011065', 'ur...   \n",
       "3      normal  {'id': 'eaf435b228ce0b038a4afe8203f59b49', 'ur...   \n",
       "4      normal  {'id': '4d1c2c77bc7431c2a6006d154198e8b9', 'ur...   \n",
       "\n",
       "   created_time extras         id  is_collapsed  is_copyable  \\\n",
       "0    1557824412         683070334         False         True   \n",
       "1    1554085028         637938925         False         True   \n",
       "2    1493707703         163642949         False        False   \n",
       "3    1493693113         163537026         False         True   \n",
       "4    1572318426         873825546         False        False   \n",
       "\n",
       "                                            question  \\\n",
       "0  {'type': 'question', 'id': 55493026, 'title': ...   \n",
       "1  {'type': 'question', 'id': 55493026, 'title': ...   \n",
       "2  {'type': 'question', 'id': 55493026, 'title': ...   \n",
       "3  {'type': 'question', 'id': 55493026, 'title': ...   \n",
       "4  {'type': 'question', 'id': 55493026, 'title': ...   \n",
       "\n",
       "                relationship    type  updated_time  \\\n",
       "0  {'upvoted_followees': []}  answer    1557824412   \n",
       "1  {'upvoted_followees': []}  answer    1558451618   \n",
       "2  {'upvoted_followees': []}  answer    1493708357   \n",
       "3  {'upvoted_followees': []}  answer    1555137867   \n",
       "4  {'upvoted_followees': []}  answer    1574756054   \n",
       "\n",
       "                                              url  \n",
       "0  https://www.zhihu.com/api/v4/answers/683070334  \n",
       "1  https://www.zhihu.com/api/v4/answers/637938925  \n",
       "2  https://www.zhihu.com/api/v4/answers/163642949  \n",
       "3  https://www.zhihu.com/api/v4/answers/163537026  \n",
       "4  https://www.zhihu.com/api/v4/answers/873825546  "
      ]
     },
     "execution_count": 73,
     "metadata": {},
     "output_type": "execute_result"
    }
   ],
   "source": [
    "payload = {'key1': 'value1', 'key2': 'value2'}\n",
    "\n",
    "headers = {'user-agent': 'my-app/0.0.1'\n",
    "           'Mozilla/5.0 (Windows NT 10.0; Win64; x64) \\\n",
    "            AppleWebKit/537.36 (KHTML, like Gecko) \\\n",
    "            Chrome/78.0.3904.108 Safari/537.36'}\n",
    "#params=增加 URL 查詢參數\n",
    "r = requests.get('https://www.zhihu.com/api/v4/questions/55493026/answers',\n",
    "                 params=payload, headers=headers) \n",
    "# print(r.url) ## 觀察 URL\n",
    "## r #<Response [200]> <<<判斷有無成功\n",
    "## r.text\n",
    "## response = r.text\n",
    "data = json.loads(r.text) #解析 <<<\n",
    "## data = json.loads(response)\n",
    "\n",
    "#---第1方式---------------\n",
    "## data       ##>>> {'data': [{'id': 683070334,   'type': 'answer', 有2層\n",
    "## data['data'] ##>>> [{'id': 683070334,  'type': 'answer', #取 第2層\n",
    "df = pd.DataFrame.from_dict(data['data'])  #<<<\n",
    "### from_dict類似數組或字典的字典構造DataFrame , https://www.cjavapy.com/article/472/\n",
    "df #<<<\n",
    "# #---第2方式--------------------\n",
    "# popular=[]\n",
    "# for d in data['data']:\n",
    "# #     print(d)\n",
    "#     popular.append(d) #取出需要的資料 #<<<列出全部資料\n",
    "# # popular  \n",
    "# popular_df = pd.DataFrame(popular) #DataFrame列表 ,columns=指定欄標籤名稱 #<<<列出全部資料\n",
    "# popular_df\n",
    "# #---第3方式--------------\n",
    "# for d in data['data']:\n",
    "#     dt_object = datetime.fromtimestamp(d['question']['created']) #d['question']['created']\n",
    "#     #dt_object1 = (d['question'])\n",
    "#     #print(dt_object1)\n",
    "#     ##data={ } <<< 物件, data={ 'data':[] } <<< data['data'] = [...] <<< 陣列 \n",
    "#     ##{'id': 683070334,...'question': {'type': 'question'... \n",
    "#     #<<< d['question']['created'] 取出 question 下面資料 的created 數值\n",
    "    \n",
    "#     print(dt_object) #2017-02-06 22:10:29   <<<答案\n",
    "#     print('timestamp: %d'%(d['question']['created'])) #timestamp: 1486390229\n",
    "#     print('time: '+str(dt_object)) #time: 2017-02-06 22:10:29\n",
    "#     break\n",
    "# #---第4方式---------------\n",
    "# print(data['data'][0]['question']['created'])\n"
   ]
  },
  {
   "cell_type": "code",
   "execution_count": 80,
   "metadata": {},
   "outputs": [
    {
     "name": "stdout",
     "output_type": "stream",
     "text": [
      "2017-02-06 14:10:29\n"
     ]
    }
   ],
   "source": [
    "# 1. 取出知乎問題發問時間\n",
    "df_question = pd.DataFrame(df['question'].values.tolist()) \n",
    "#values.tolist()=Dataframe(表格)轉為List(行),DataFrame表格\n",
    "# print(df_question) #顯示不一樣\n",
    "# df_question\n",
    "t = datetime.utcfromtimestamp(df_question.iloc[0]['created'])\n",
    "#df_question.iloc[0]['created']取created 第1格的值,utcfromtimestamp世界標準時間 從時間戳\n",
    "print(t)\n"
   ]
  },
  {
   "cell_type": "markdown",
   "metadata": {},
   "source": [
    "### 2. 取出第一筆與最後一筆回答的時間"
   ]
  },
  {
   "cell_type": "code",
   "execution_count": 83,
   "metadata": {},
   "outputs": [
    {
     "name": "stdout",
     "output_type": "stream",
     "text": [
      "第一筆回答的時間:\t2019-05-14 09:00:12\n",
      "最後一筆回答的時間:\t2019-10-29 03:07:06\n"
     ]
    }
   ],
   "source": [
    "# 2. 取出第一筆與最後一筆回答的時間\n",
    "df_answer = pd.DataFrame(df['created_time'].values.tolist())\n",
    "print('第一筆回答的時間:\\t{}\\n最後一筆回答的時間:\\t{}' \\\n",
    "      .format(datetime.utcfromtimestamp(df_answer.iloc[0]), \\\n",
    "              datetime.utcfromtimestamp(df_answer.iloc[-1])))"
   ]
  },
  {
   "cell_type": "code",
   "execution_count": 84,
   "metadata": {},
   "outputs": [
    {
     "name": "stdout",
     "output_type": "stream",
     "text": [
      "oldest_timestamp: 1493693113\n",
      "oldest_time: 2017-05-02 10:45:13\n",
      "\n",
      "newest_timestamp: 1572318426\n",
      "newest_time: 2019-10-29 11:07:06\n"
     ]
    }
   ],
   "source": [
    "oldest = None \n",
    "newest = None\n",
    "for d in data['data']:\n",
    "    \n",
    "    if oldest is None:\n",
    "        oldest = d['created_time']\n",
    "    elif oldest > d['created_time']:\n",
    "        oldest = d['created_time']\n",
    "    \n",
    "    if newest is None:\n",
    "        newest = d['created_time']\n",
    "    elif newest < d['created_time']:\n",
    "        newest = d['created_time']\n",
    "\n",
    "#https://docs.python.org/zh-cn/3/library/datetime.html\n",
    "#fromtimestamp返回對應於POSIX時間戳\n",
    "dt_oldest = datetime.fromtimestamp(oldest) \n",
    "dt_newest = datetime.fromtimestamp(newest)\n",
    "print('oldest_timestamp: %d'%(oldest))\n",
    "print('oldest_time: '+str(dt_oldest))\n",
    "print()\n",
    "print('newest_timestamp: %d'%(newest))\n",
    "print('newest_time: '+str(dt_newest))"
   ]
  }
 ],
 "metadata": {
  "kernelspec": {
   "display_name": "Python 3",
   "language": "python",
   "name": "python3"
  },
  "language_info": {
   "codemirror_mode": {
    "name": "ipython",
    "version": 3
   },
   "file_extension": ".py",
   "mimetype": "text/x-python",
   "name": "python",
   "nbconvert_exporter": "python",
   "pygments_lexer": "ipython3",
   "version": "3.7.3"
  }
 },
 "nbformat": 4,
 "nbformat_minor": 4
}
