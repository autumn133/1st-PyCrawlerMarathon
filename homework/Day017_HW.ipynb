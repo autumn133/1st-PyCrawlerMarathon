{
 "cells": [
  {
   "cell_type": "markdown",
   "metadata": {},
   "source": [
    "# HTTP 動態網頁架構說明\n",
    "\n",
    "\n",
    "* 了解動態網頁的資料爬蟲策略\n",
    "* 知道非同步網頁載入機制（Ajax）\n",
    "* 學習兩種對應動態網頁爬蟲的的策略\n"
   ]
  },
  {
   "cell_type": "markdown",
   "metadata": {},
   "source": [
    "## 作業目標\n",
    "\n",
    "回答以下問題：\n",
    "\n",
    "1. 動態網頁跟靜態網頁的差別是什麼？原本靜態網頁的做法會產生什麼問題或是缺點？\n",
    "2. 還記得我們在 ETTODAY 靜態爬蟲實作練習中，有請大家完成一個題目「取出今天所有的發文」，但仔細看其實並沒有真的把當天所有的新聞都抓回來， 試著回答看看原因是什麼？及該如何檢查？\n"
   ]
  },
  {
   "cell_type": "markdown",
   "metadata": {},
   "source": [
    "### 1. 動態網頁跟靜態網頁的差別是什麼？原本靜態網頁的做法會產生什麼問題或是缺點？"
   ]
  },
  {
   "cell_type": "code",
   "execution_count": 1,
   "metadata": {},
   "outputs": [
    {
     "data": {
      "text/plain": [
       "'\\nYour Input\\n'"
      ]
     },
     "execution_count": 1,
     "metadata": {},
     "output_type": "execute_result"
    }
   ],
   "source": [
    "'''\n",
    "1.動態網頁\n",
    "透過 Ajax 的技術，來完成非同步的資料傳輸\n",
    "網頁內容會隨者時間或使用者操作，局部更新時，\n",
    "動態網頁是在瀏覽器已經取得 HTML 後，才透過 JavaScript 在需要時動態地取得資料。\n",
    "\n",
    "2.靜態網頁\n",
    "整個畫面重新載入，載入的資料量較多。\n",
    "一來一回的機制，會找不到時機點執行動態的 Request 更新。另外單純靠 Python 程式，也無法執行 JavaScript。\n",
    "'''"
   ]
  },
  {
   "cell_type": "markdown",
   "metadata": {},
   "source": [
    "### 2. 還記得我們在 ETTODAY 靜態爬蟲實作練習中，有請大家完成一個題目「取出今天所有的發文」，但仔細看其實並沒有真的把當天所有的新聞都抓回來， 試著回答看看原因是什麼？及該如何檢查？"
   ]
  },
  {
   "cell_type": "code",
   "execution_count": 2,
   "metadata": {},
   "outputs": [
    {
     "data": {
      "text/plain": [
       "'\\nYour Input\\n'"
      ]
     },
     "execution_count": 2,
     "metadata": {},
     "output_type": "execute_result"
    }
   ],
   "source": [
    "'''\n",
    "<!--無限滾動相關模組 開始-->\n",
    "<script>\n",
    "(function(){\n",
    "\tvar iWinH = $(window).innerHeight();\n",
    "\tvar iWinScrollTop = 0;\n",
    "\tvar iPoint = null; //觸發點\n",
    "\tvar iLimit = 20; //最大觸發次數\n",
    "\tvar iCount = 0; //觸發次數\n",
    "\tvar iBoxH; //容器高\n",
    "\tvar iBoxOffsetTop; //容器距離視窗頂部\n",
    "\tvar iBoxOffsetBottom; //容器距離視窗底部\n",
    "\n",
    "\t//偵測到底 => 載入下一批資料\n",
    "\tfunction fnBottom(){\n",
    "\t\tiWinScrollTop = $(this).scrollTop();\n",
    "\t\tiBoxH = $(\".r2 .c2 \").innerHeight();\n",
    "\t\tiBoxOffsetTop = $(\".r2 .c2 \").offset().top;\n",
    "\t\tiBoxOffsetBottom = iBoxOffsetTop + iBoxH;\n",
    "\t\tiPoint = iBoxOffsetBottom - iWinH -500;\n",
    "\t\tif(iCount <= iLimit && iWinScrollTop > iPoint){\n",
    "\t\t\t$(window).off(\"scroll.myWinScroll\", fnBottom);\n",
    "\t\t\tfnAjax();             \n",
    "\t\t}\n",
    "\t}\n",
    "\n",
    "\t//載入資料\n",
    "\tfunction fnAjax(){\n",
    "\t\t$(\".r2 .c2 .loading\").show();\n",
    "\t\t$.post(\"//www.ettoday.net/show_roll_2019i.php\", { \n",
    "\t\t\t\toffset: iCount, \n",
    "\t\t\t\tsmark: \"mark_2019i_v2\", \n",
    "\t\t\t\tsarea: 0, \n",
    "\t\t\t\tsitem: 20 \n",
    "\t\t\t})\n",
    "\t\t\t.done(function(data){\n",
    "\t\t\t\t$(\".infinite_scroll .part_list_7\").append(data); //加入資料\n",
    "\t\t\t\t$(\".r2 .c2 .loading\").hide();\n",
    "\t\t\t\tiCount++;\n",
    "\t\t\t\tif(iCount > iLimit) return false; //滿足最大觸發次數,不綁scroll.myWinScroll,不偵測到底\n",
    "\t\t\t\t$(window).on(\"scroll.myWinScroll\", fnBottom);\n",
    "\t\t\t});\n",
    "\t}\n",
    "\n",
    "\t//初始\n",
    "\t$(window).on(\"scroll.myWinScroll\", fnBottom);\n",
    "\n",
    "})();\n",
    "</script>\n",
    "<!--無限滾動相關模組 結束-->\n",
    "\n",
    "1.用瀏覽器畫面捲動時，會觸發show_roll_2019i.php \n",
    "how_roll_2019i.php 在 fnAjax function內， fnAjax 又在 fnBottom被呼叫，fnBottom 持續檢查是否要再取回資料。\n",
    "\n",
    "'''"
   ]
  },
  {
   "cell_type": "code",
   "execution_count": null,
   "metadata": {},
   "outputs": [],
   "source": []
  },
  {
   "cell_type": "code",
   "execution_count": null,
   "metadata": {},
   "outputs": [],
   "source": []
  }
 ],
 "metadata": {
  "kernelspec": {
   "display_name": "Python 3",
   "language": "python",
   "name": "python3"
  },
  "language_info": {
   "codemirror_mode": {
    "name": "ipython",
    "version": 3
   },
   "file_extension": ".py",
   "mimetype": "text/x-python",
   "name": "python",
   "nbconvert_exporter": "python",
   "pygments_lexer": "ipython3",
   "version": "3.7.3"
  }
 },
 "nbformat": 4,
 "nbformat_minor": 4
}
